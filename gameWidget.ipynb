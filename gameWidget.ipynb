{
  "cells": [
    {
      "cell_type": "markdown",
      "metadata": {
        "id": "view-in-github",
        "colab_type": "text"
      },
      "source": [
        "<a href=\"https://colab.research.google.com/github/MarkusThill/DotsAndBoxes/blob/master/gameWidget.ipynb\" target=\"_parent\"><img src=\"https://colab.research.google.com/assets/colab-badge.svg\" alt=\"Open In Colab\"/></a>"
      ]
    },
    {
      "cell_type": "markdown",
      "metadata": {
        "id": "9DEfdeQwPJzQ"
      },
      "source": [
        "# Interactive Connect-4 Widget\n",
        "\n",
        "Before you start, ensure that the required dependencies are installed.\n",
        "```bash\n",
        "pip install bitbully[gui]\n",
        "```\n",
        "\n",
        "Otherwise install below:"
      ]
    },
    {
      "cell_type": "code",
      "source": [
        "!pip install bitbully[gui]"
      ],
      "metadata": {
        "id": "ebOcPP3kPNuV"
      },
      "execution_count": null,
      "outputs": []
    },
    {
      "cell_type": "markdown",
      "source": [
        "**Important**: After Installation of all dependencies above you have to restart your session, otherwise the widget will throw an error such as:\n",
        "\n",
        "```\n",
        "ValueError: Key backend: 'module://ipympl.backend_nbagg' is not a valid value for backend;\n",
        "```"
      ],
      "metadata": {
        "id": "dtchgFlmPoq-"
      }
    },
    {
      "cell_type": "code",
      "source": [
        "# Only relevant for Google Colab:\n",
        "import sys\n",
        "\n",
        "IN_COLAB = \"google.colab\" in sys.modules\n",
        "\n",
        "if IN_COLAB:\n",
        "    from google.colab import output\n",
        "\n",
        "    output.enable_custom_widget_manager()"
      ],
      "metadata": {
        "id": "J3x4W_05QhDA"
      },
      "execution_count": null,
      "outputs": []
    },
    {
      "cell_type": "code",
      "execution_count": null,
      "metadata": {
        "id": "yPK4rYmWPJzT"
      },
      "outputs": [],
      "source": [
        "from bitbully.gui_c4 import GuiC4\n",
        "\n",
        "%matplotlib ipympl\n",
        "\n",
        "c4gui = GuiC4()\n",
        "\n",
        "# Display everything\n",
        "display(c4gui.get_widget())"
      ]
    },
    {
      "cell_type": "code",
      "execution_count": null,
      "metadata": {
        "id": "ZQxe6vcGPJzV"
      },
      "outputs": [],
      "source": []
    }
  ],
  "metadata": {
    "kernelspec": {
      "display_name": "venv (3.12.1)",
      "language": "python",
      "name": "python3"
    },
    "language_info": {
      "codemirror_mode": {
        "name": "ipython",
        "version": 3
      },
      "file_extension": ".py",
      "mimetype": "text/x-python",
      "name": "python",
      "nbconvert_exporter": "python",
      "pygments_lexer": "ipython3",
      "version": "3.12.1"
    },
    "colab": {
      "provenance": [],
      "include_colab_link": true
    }
  },
  "nbformat": 4,
  "nbformat_minor": 0
}